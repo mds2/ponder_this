{
 "cells": [
  {
   "cell_type": "code",
   "execution_count": 1,
   "id": "7ae80b22-9113-4186-92e0-dcbfe2216ae8",
   "metadata": {},
   "outputs": [],
   "source": [
    "import numpy as np"
   ]
  },
  {
   "cell_type": "markdown",
   "id": "1a1185f9-82ca-45c9-8a8b-d2d3bad544e7",
   "metadata": {},
   "source": [
    "Three jugs $A$, $B$, and $C$ have volumes $V_A=\\sqrt{5}$ , $V_B=\\sqrt{3}$ , and $V_C=\\sqrt{2}$ liters, respectively. There is a tap from which we can fill the jugs, and a sink into which we can empty them. At the beginning of the problem, the three jugs are empty.\n",
    "\n",
    "To achieve the solution of the problem, we perform a sequence of steps that can only be one of the following:\n",
    "\n",
    "Pour water from the tap into a jug until it is filled to the top.\n",
    "Empty a jug into the sink.\n",
    "Pour water from one jug into another until either the source jug is empty or the receiving jug is filled to the top, whichever happens first.\n",
    "We assume that these steps are performed with absolute accuracy and no water is spilled.\n",
    "\n",
    "Our goal is to measure a specific amount of water, meaning we seek to arrive at a state where any one of the jugs (no matter which one) contains this specific amount. As it is impossible to measure with these jugs any rational, non-zero volume with a finite number of steps, we will relax the condition: Instead of measuring a volume of 1 , we measure a volume of $1 \\pm 0.0003$ liters, i.e., any volume in the interval $[0.9997, 1.0003]$ will suffice.\n",
    "\n",
    "The solution should be presented as a list of two-letter strings that represent the steps of the solution, in which the first letter denotes the source, and the second letter denotes the recipient. The tap is denoted by $T$ and the sink by $S$. The list should also be preceded by a number representing the minimum number of steps.\n",
    "\n",
    "For example: If the task is to measure $1 \\pm 0.01$ liters, the fastest solution would require six steps and could be described as\n",
    "6 TA AB BS AB TA AB\n",
    "Upon completion of the above sequence of six steps, jug A would contain 1.00803 liters of water, a volume within the specified tolerance.\n",
    "\n",
    "Your goal: Find a sequence of steps measuring $1 \\pm 0.0003$ liters such that the number of steps is minimal. Submit your answer using the above format."
   ]
  },
  {
   "cell_type": "markdown",
   "id": "9fe73a1f-6889-4a71-82b1-2f9f8b3e2748",
   "metadata": {},
   "source": [
    "Lemma 1\n",
    "===========\n",
    "\n",
    "Each jug, at any time stem, contains an integer-weighted (positive and negative) sum of $V_A, V_B, V_C$\n",
    "\n",
    "Proof\n",
    "-----\n",
    "\n",
    "Consider a pour from $A$ to $B$.  Before the pour, $A$ contains $a_1 V_A + b_1 V_B + c_1 V_C$ where $a_1, b_1, c_1$ are (possibly negative) integers, while $B$ contains $a_2 V_A + b_2 V_B + c_2 V_C$ where $a_2, b_2, c_2$ are also integers.\n",
    "\n",
    "After the pour, $A$ contains $\\max( (a_1 + a_2) V_A + (b_1 + b_2 - 1) V_B + (c_1 + c_2) V_C, 0)$, wihle $B$ contains $\\min(V_B, (a_1 + a_2) V_A + (b_1+b_2) V_B + (c_1 + c_2)V_C)$.  Each of these are integer-weighted sums of $V_A$, $V_B$, and $V_C$"
   ]
  },
  {
   "cell_type": "code",
   "execution_count": 2,
   "id": "5ed8b738-c89e-4a95-8d9a-6b0a2d108044",
   "metadata": {},
   "outputs": [],
   "source": [
    "def is_valid(n_a, n_b, n_c):\n",
    "    val = n_a * np.sqrt(5) + n_b * np.sqrt(3) + n_c * np.sqrt(2)\n",
    "    return np.abs(val - 1.0) <= 3.0e-4"
   ]
  },
  {
   "cell_type": "code",
   "execution_count": 3,
   "id": "44569ade-00ef-46f7-b436-283570a5ab71",
   "metadata": {},
   "outputs": [],
   "source": [
    "valids = []\n",
    "\n",
    "for n_a in range(-10, 10):\n",
    "    for n_b in range(-10, 10):\n",
    "        for n_c in range(-10, 10):\n",
    "            if is_valid(n_a, n_b, n_c):\n",
    "                valids.append((n_a, n_b, n_c))"
   ]
  },
  {
   "cell_type": "code",
   "execution_count": 4,
   "id": "4c65cb96-deec-43b4-a3c7-fd6e4747694e",
   "metadata": {},
   "outputs": [
    {
     "data": {
      "text/plain": [
       "0"
      ]
     },
     "execution_count": 4,
     "metadata": {},
     "output_type": "execute_result"
    }
   ],
   "source": [
    "len(valids)"
   ]
  },
  {
   "cell_type": "code",
   "execution_count": 5,
   "id": "276e240e-23bc-4d5d-8509-0b1a6fae01b2",
   "metadata": {},
   "outputs": [],
   "source": [
    "valids = []\n",
    "\n",
    "range_size = 20\n",
    "\n",
    "for n_a in range(-range_size, range_size):\n",
    "    for n_b in range(-range_size, range_size):\n",
    "        for n_c in range(-range_size, range_size):\n",
    "            if is_valid(n_a, n_b, n_c):\n",
    "                valids.append((n_a, n_b, n_c))"
   ]
  },
  {
   "cell_type": "code",
   "execution_count": 6,
   "id": "4935b81d-b95f-4f9e-8c28-0715e5fd7165",
   "metadata": {},
   "outputs": [
    {
     "data": {
      "text/plain": [
       "1"
      ]
     },
     "execution_count": 6,
     "metadata": {},
     "output_type": "execute_result"
    }
   ],
   "source": [
    "len(valids)"
   ]
  },
  {
   "cell_type": "code",
   "execution_count": 7,
   "id": "6136f7e0-9f72-45de-91e7-784b987610eb",
   "metadata": {},
   "outputs": [
    {
     "data": {
      "text/plain": [
       "[(-7, -1, 13)]"
      ]
     },
     "execution_count": 7,
     "metadata": {},
     "output_type": "execute_result"
    }
   ],
   "source": [
    "valids"
   ]
  },
  {
   "cell_type": "code",
   "execution_count": 8,
   "id": "20ba76c2-8fc9-41cf-9978-e85a1f4537d8",
   "metadata": {},
   "outputs": [
    {
     "data": {
      "text/plain": [
       "21"
      ]
     },
     "execution_count": 8,
     "metadata": {},
     "output_type": "execute_result"
    }
   ],
   "source": [
    "7+1+13"
   ]
  },
  {
   "cell_type": "code",
   "execution_count": 9,
   "id": "7756a543-23ac-4a1a-817a-0ef3a45c7fff",
   "metadata": {},
   "outputs": [
    {
     "name": "stdout",
     "output_type": "stream",
     "text": [
      "Found one : $(-7, -1, 13)\n",
      "Found one : $(0, -28, 35)\n"
     ]
    }
   ],
   "source": [
    "more_valids = []\n",
    "range_bound = 40\n",
    "\n",
    "for n_a in range(-range_bound, range_bound+1):\n",
    "    remaining = range_bound - n_a\n",
    "    for n_b in range(-remaining, remaining+1):\n",
    "        still_left = range_bound - n_a - n_b\n",
    "        for n_c in range(-still_left, still_left+1):\n",
    "            if is_valid(n_a, n_b, n_c):\n",
    "                more_valids.append((n_a, n_b, n_c))\n",
    "                print(f\"Found one : ${(n_a, n_b, n_c)}\")"
   ]
  },
  {
   "cell_type": "markdown",
   "id": "a11a0c10-aba8-43e1-b2ba-2de9c0143589",
   "metadata": {},
   "source": [
    "We found one!\n",
    "-------\n",
    "\n",
    "Now we need to find a path to get to it.\n",
    "\n",
    "We'll start by writing a simulator"
   ]
  },
  {
   "cell_type": "code",
   "execution_count": 10,
   "id": "d75bec6e-f13c-4b14-b30a-de8b37a27a61",
   "metadata": {},
   "outputs": [],
   "source": [
    "def volume_of(weights):\n",
    "    return np.dot(weights, np.sqrt([5,3,2]))\n",
    "\n",
    "def pour(source, dest, weights):\n",
    "    new_d = weights[dest, :] + weights[source, :]\n",
    "    alt_d = np.zeros_like(new_d)\n",
    "    alt_d[dest] = 1\n",
    "    if volume_of(new_d) > volume_of(alt_d):\n",
    "        new_s = new_d - alt_d\n",
    "        result = np.copy(weights)\n",
    "        result[source, :] = new_s\n",
    "        result[dest, :] = alt_d\n",
    "        return result\n",
    "    result = np.copy(weights)\n",
    "    result[source, :] = np.zeros_like(new_d)\n",
    "    result[dest, :] = new_d\n",
    "    return result\n",
    "\n",
    "def to_sink(source, weights):\n",
    "    result = np.copy(weights)\n",
    "    result[source, :] = np.zeros_like(result[source, :])\n",
    "    return result\n",
    "\n",
    "def from_source(dest, weights):\n",
    "    result = np.copy(weights)\n",
    "    new_d = np.zeros_like(result[dest, :])\n",
    "    new_d[dest] = 1\n",
    "    result[dest, :] = new_d\n",
    "    return result"
   ]
  },
  {
   "cell_type": "code",
   "execution_count": 11,
   "id": "a99958cb-65bb-453f-8496-a4edcaf1741f",
   "metadata": {},
   "outputs": [
    {
     "data": {
      "text/plain": [
       "array([[0, 1, 0],\n",
       "       [0, 0, 0],\n",
       "       [0, 0, 0]])"
      ]
     },
     "execution_count": 11,
     "metadata": {},
     "output_type": "execute_result"
    }
   ],
   "source": [
    "pour(1, 0, from_source(1, np.zeros((3,3), dtype='int')))"
   ]
  },
  {
   "cell_type": "code",
   "execution_count": 12,
   "id": "225b47ef-ec1a-4af8-a3fd-9ae1d104cffc",
   "metadata": {},
   "outputs": [
    {
     "data": {
      "text/plain": [
       "(array([[0, 1, 0],\n",
       "        [0, 1, 0],\n",
       "        [0, 0, 0]]),\n",
       " array([[ 1,  0,  0],\n",
       "        [-1,  2,  0],\n",
       "        [ 0,  0,  0]]),\n",
       " array([[ 0,  1, -1],\n",
       "        [ 0,  1,  0],\n",
       "        [ 0,  0,  1]]))"
      ]
     },
     "execution_count": 12,
     "metadata": {},
     "output_type": "execute_result"
    }
   ],
   "source": [
    "state = pour(1, 0, from_source(1, np.zeros((3,3), dtype='int')))\n",
    "state = from_source(1, state)\n",
    "state, pour(1,0,state), pour(0,2, state)"
   ]
  },
  {
   "cell_type": "code",
   "execution_count": 13,
   "id": "c539394e-cb68-47b1-b611-790b59809b1d",
   "metadata": {},
   "outputs": [],
   "source": [
    "class PourState:\n",
    "    def __init__(self):\n",
    "        self.state = np.zeros((3,3), dtype='int')\n",
    "        self.history = []\n",
    "    def do_pour(self, source, dest):\n",
    "        self.state = pour(source, dest, self.state)\n",
    "        self.history.append(\"ABC\"[source] + \"ABC\"[dest])\n",
    "    def do_fill(self, dest):\n",
    "        self.state = from_source(dest, self.state)\n",
    "        self.history.append(\"T\" + \"ABC\"[dest])\n",
    "    def do_dump(self, source):\n",
    "        self.state = to_sink(source, self.state)\n",
    "        self.history.append(\"ABC\"[source] + \"S\")\n",
    "    def clone_self(self):\n",
    "        result = PourState()\n",
    "        result.state = np.copy(self.state)\n",
    "        result.history= [c for c in self.history]\n",
    "        return result\n",
    "    def search_heuristic(self, goal):\n",
    "        g = np.array(goal).reshape((1,3))\n",
    "        deltas = np.abs(g - self.state)\n",
    "        deltas = np.sum(deltas, axis=1)\n",
    "        return np.min(deltas)"
   ]
  },
  {
   "cell_type": "code",
   "execution_count": 14,
   "id": "35f98621-a53f-4271-9929-46d85bfda8fc",
   "metadata": {},
   "outputs": [
    {
     "data": {
      "text/plain": [
       "[(-7, -1, 13), (0, -28, 35)]"
      ]
     },
     "execution_count": 14,
     "metadata": {},
     "output_type": "execute_result"
    }
   ],
   "source": [
    "more_valids"
   ]
  },
  {
   "cell_type": "code",
   "execution_count": 15,
   "id": "27dce8fb-b980-4cdc-a568-07d566647dda",
   "metadata": {},
   "outputs": [
    {
     "data": {
      "text/plain": [
       "array([[0, 0, 0],\n",
       "       [0, 0, 0],\n",
       "       [0, 0, 1]])"
      ]
     },
     "execution_count": 15,
     "metadata": {},
     "output_type": "execute_result"
    }
   ],
   "source": [
    "ps = PourState()\n",
    "ps.do_fill(2)\n",
    "ps.state"
   ]
  },
  {
   "cell_type": "code",
   "execution_count": 16,
   "id": "88e98fde-f077-45e1-8f81-f840e812b72d",
   "metadata": {},
   "outputs": [
    {
     "data": {
      "text/plain": [
       "array([[0, 0, 0],\n",
       "       [0, 0, 1],\n",
       "       [0, 0, 0]])"
      ]
     },
     "execution_count": 16,
     "metadata": {},
     "output_type": "execute_result"
    }
   ],
   "source": [
    "ps.do_pour(2,1)\n",
    "ps.state"
   ]
  },
  {
   "cell_type": "code",
   "execution_count": 17,
   "id": "f600eb91-2d4f-45c7-8f0e-4ad50d036707",
   "metadata": {},
   "outputs": [
    {
     "data": {
      "text/plain": [
       "array([[ 0,  0,  0],\n",
       "       [ 0,  1,  0],\n",
       "       [ 0, -1,  2]])"
      ]
     },
     "execution_count": 17,
     "metadata": {},
     "output_type": "execute_result"
    }
   ],
   "source": [
    "ps.do_fill(2)\n",
    "ps.do_pour(2,1)\n",
    "ps.state"
   ]
  },
  {
   "cell_type": "code",
   "execution_count": 18,
   "id": "a17176b6-de63-42b9-a709-b94edf1f96f6",
   "metadata": {},
   "outputs": [
    {
     "data": {
      "text/plain": [
       "array([[ 0, -1,  2],\n",
       "       [ 0,  1,  0],\n",
       "       [ 0,  0,  0]])"
      ]
     },
     "execution_count": 18,
     "metadata": {},
     "output_type": "execute_result"
    }
   ],
   "source": [
    "ps.do_pour(2,0)\n",
    "ps.state"
   ]
  },
  {
   "cell_type": "code",
   "execution_count": 19,
   "id": "d2f3d8bf-f3b4-46d8-9516-e9814fbacbbc",
   "metadata": {},
   "outputs": [
    {
     "data": {
      "text/plain": [
       "array([[ 1,  0,  0],\n",
       "       [ 0,  1,  0],\n",
       "       [-1, -1,  3]])"
      ]
     },
     "execution_count": 19,
     "metadata": {},
     "output_type": "execute_result"
    }
   ],
   "source": [
    "ps.do_fill(2)\n",
    "ps.do_pour(2,0)\n",
    "ps.state"
   ]
  },
  {
   "cell_type": "code",
   "execution_count": 20,
   "id": "d2c114b9-2319-4346-873b-0313dcb6773d",
   "metadata": {},
   "outputs": [
    {
     "data": {
      "text/plain": [
       "array([[-1, -1,  3],\n",
       "       [ 0,  1,  0],\n",
       "       [ 0,  0,  0]])"
      ]
     },
     "execution_count": 20,
     "metadata": {},
     "output_type": "execute_result"
    }
   ],
   "source": [
    "ps.do_dump(0)\n",
    "ps.do_pour(2,0)\n",
    "ps.state"
   ]
  },
  {
   "cell_type": "code",
   "execution_count": 21,
   "id": "9166d55d-563a-4767-a9aa-4a4de1a47f5e",
   "metadata": {},
   "outputs": [
    {
     "data": {
      "text/plain": [
       "array([[-1, -1,  4],\n",
       "       [ 0,  1,  0],\n",
       "       [ 0,  0,  0]])"
      ]
     },
     "execution_count": 21,
     "metadata": {},
     "output_type": "execute_result"
    }
   ],
   "source": [
    "ps.do_fill(2)\n",
    "ps.do_pour(2,0)\n",
    "ps.state"
   ]
  },
  {
   "cell_type": "code",
   "execution_count": 22,
   "id": "c4da39f2-46b9-4d89-a0c2-a0a135a38d81",
   "metadata": {},
   "outputs": [
    {
     "data": {
      "text/plain": [
       "array([[ 1,  0,  0],\n",
       "       [ 0,  1,  0],\n",
       "       [-2, -1,  5]])"
      ]
     },
     "execution_count": 22,
     "metadata": {},
     "output_type": "execute_result"
    }
   ],
   "source": [
    "ps.do_fill(2)\n",
    "ps.do_pour(2,0)\n",
    "ps.state"
   ]
  },
  {
   "cell_type": "code",
   "execution_count": 23,
   "id": "603a8c5f-29c7-4761-b29a-a3c3f93ca809",
   "metadata": {},
   "outputs": [
    {
     "data": {
      "text/plain": [
       "array([[ 0,  0,  0],\n",
       "       [ 0,  1,  0],\n",
       "       [-2, -1,  5]])"
      ]
     },
     "execution_count": 23,
     "metadata": {},
     "output_type": "execute_result"
    }
   ],
   "source": [
    "ps.do_dump(0)\n",
    "ps.state"
   ]
  },
  {
   "cell_type": "code",
   "execution_count": 24,
   "id": "fdc0e08b-e4be-47d8-ba24-9b4bd9c06c1f",
   "metadata": {},
   "outputs": [
    {
     "data": {
      "text/plain": [
       "array([[-2, -1,  5],\n",
       "       [ 0,  1,  0],\n",
       "       [ 0,  0,  0]])"
      ]
     },
     "execution_count": 24,
     "metadata": {},
     "output_type": "execute_result"
    }
   ],
   "source": [
    "ps.do_pour(2,0)\n",
    "ps.state"
   ]
  },
  {
   "cell_type": "code",
   "execution_count": 25,
   "id": "a1894153-9a8c-42d2-8019-a2afa45adb1c",
   "metadata": {},
   "outputs": [
    {
     "data": {
      "text/plain": [
       "array([[ 1,  0,  0],\n",
       "       [ 0,  1,  0],\n",
       "       [-3, -1,  6]])"
      ]
     },
     "execution_count": 25,
     "metadata": {},
     "output_type": "execute_result"
    }
   ],
   "source": [
    "ps.do_fill(2)\n",
    "ps.do_pour(2,0)\n",
    "ps.state"
   ]
  },
  {
   "cell_type": "code",
   "execution_count": 26,
   "id": "ce18c8cb-e578-4db7-ab4c-2655e7203cfc",
   "metadata": {},
   "outputs": [
    {
     "data": {
      "text/plain": [
       "array([[-3, -1,  6],\n",
       "       [ 0,  1,  0],\n",
       "       [ 0,  0,  0]])"
      ]
     },
     "execution_count": 26,
     "metadata": {},
     "output_type": "execute_result"
    }
   ],
   "source": [
    "ps.do_dump(0)\n",
    "ps.do_pour(2,0)\n",
    "ps.state"
   ]
  },
  {
   "cell_type": "code",
   "execution_count": 27,
   "id": "489ac838-a11c-4c8e-b96b-51d72be57ca4",
   "metadata": {},
   "outputs": [
    {
     "data": {
      "text/plain": [
       "array([[-3, -1,  7],\n",
       "       [ 0,  1,  0],\n",
       "       [ 0,  0,  0]])"
      ]
     },
     "execution_count": 27,
     "metadata": {},
     "output_type": "execute_result"
    }
   ],
   "source": [
    "ps.do_fill(2)\n",
    "ps.do_pour(2,0)\n",
    "ps.state"
   ]
  },
  {
   "cell_type": "code",
   "execution_count": 28,
   "id": "2062ca0c-8147-4e5a-9999-af7d88481d5c",
   "metadata": {},
   "outputs": [
    {
     "data": {
      "text/plain": [
       "array([[ 1,  0,  0],\n",
       "       [ 0,  1,  0],\n",
       "       [-4, -1,  8]])"
      ]
     },
     "execution_count": 28,
     "metadata": {},
     "output_type": "execute_result"
    }
   ],
   "source": [
    "ps.do_fill(2)\n",
    "ps.do_pour(2,0)\n",
    "ps.state"
   ]
  },
  {
   "cell_type": "code",
   "execution_count": 29,
   "id": "25c16963-8868-4131-940a-cf12e5cdd034",
   "metadata": {},
   "outputs": [
    {
     "data": {
      "text/plain": [
       "array([[-4, -1,  8],\n",
       "       [ 0,  1,  0],\n",
       "       [ 0,  0,  0]])"
      ]
     },
     "execution_count": 29,
     "metadata": {},
     "output_type": "execute_result"
    }
   ],
   "source": [
    "ps.do_dump(0)\n",
    "ps.do_pour(2,0)\n",
    "ps.state"
   ]
  },
  {
   "cell_type": "code",
   "execution_count": 30,
   "id": "cf0fb760-d3d6-4551-87bd-7045c235c31e",
   "metadata": {},
   "outputs": [
    {
     "data": {
      "text/plain": [
       "array([[-4, -1,  9],\n",
       "       [ 0,  1,  0],\n",
       "       [ 0,  0,  0]])"
      ]
     },
     "execution_count": 30,
     "metadata": {},
     "output_type": "execute_result"
    }
   ],
   "source": [
    "ps.do_fill(2)\n",
    "ps.do_pour(2,0)\n",
    "ps.state"
   ]
  },
  {
   "cell_type": "code",
   "execution_count": 31,
   "id": "2ad0dc2a-f180-4ea2-9149-fdc63aea6a83",
   "metadata": {},
   "outputs": [
    {
     "data": {
      "text/plain": [
       "array([[ 1,  0,  0],\n",
       "       [ 0,  1,  0],\n",
       "       [-5, -1, 10]])"
      ]
     },
     "execution_count": 31,
     "metadata": {},
     "output_type": "execute_result"
    }
   ],
   "source": [
    "ps.do_fill(2)\n",
    "ps.do_pour(2,0)\n",
    "ps.state"
   ]
  },
  {
   "cell_type": "code",
   "execution_count": 32,
   "id": "6679b016-78c0-4e9c-8b2d-698004170461",
   "metadata": {},
   "outputs": [
    {
     "data": {
      "text/plain": [
       "array([[-5, -1, 10],\n",
       "       [ 0,  1,  0],\n",
       "       [ 0,  0,  0]])"
      ]
     },
     "execution_count": 32,
     "metadata": {},
     "output_type": "execute_result"
    }
   ],
   "source": [
    "ps.do_dump(0)\n",
    "ps.do_pour(2,0)\n",
    "ps.state"
   ]
  },
  {
   "cell_type": "code",
   "execution_count": 33,
   "id": "160738d5-5d56-4da8-b409-6d3d273732af",
   "metadata": {},
   "outputs": [
    {
     "data": {
      "text/plain": [
       "array([[ 1,  0,  0],\n",
       "       [ 0,  1,  0],\n",
       "       [-6, -1, 11]])"
      ]
     },
     "execution_count": 33,
     "metadata": {},
     "output_type": "execute_result"
    }
   ],
   "source": [
    "ps.do_fill(2)\n",
    "ps.do_pour(2,0)\n",
    "ps.state"
   ]
  },
  {
   "cell_type": "code",
   "execution_count": 34,
   "id": "19e51770-d78e-43f0-a191-bc77d17f5718",
   "metadata": {},
   "outputs": [
    {
     "data": {
      "text/plain": [
       "array([[-6, -1, 11],\n",
       "       [ 0,  1,  0],\n",
       "       [ 0,  0,  0]])"
      ]
     },
     "execution_count": 34,
     "metadata": {},
     "output_type": "execute_result"
    }
   ],
   "source": [
    "ps.do_dump(0)\n",
    "ps.do_pour(2,0)\n",
    "ps.state"
   ]
  },
  {
   "cell_type": "code",
   "execution_count": 35,
   "id": "628dbc2f-7464-449f-8aa7-300d21e8d47f",
   "metadata": {},
   "outputs": [
    {
     "data": {
      "text/plain": [
       "array([[-6, -1, 12],\n",
       "       [ 0,  1,  0],\n",
       "       [ 0,  0,  0]])"
      ]
     },
     "execution_count": 35,
     "metadata": {},
     "output_type": "execute_result"
    }
   ],
   "source": [
    "ps.do_fill(2)\n",
    "ps.do_pour(2,0)\n",
    "ps.state"
   ]
  },
  {
   "cell_type": "code",
   "execution_count": 36,
   "id": "3e13bd28-5404-4888-a3de-b01b41e2791e",
   "metadata": {},
   "outputs": [
    {
     "data": {
      "text/plain": [
       "array([[ 1,  0,  0],\n",
       "       [ 0,  1,  0],\n",
       "       [-7, -1, 13]])"
      ]
     },
     "execution_count": 36,
     "metadata": {},
     "output_type": "execute_result"
    }
   ],
   "source": [
    "ps.do_fill(2)\n",
    "ps.do_pour(2,0)\n",
    "ps.state"
   ]
  },
  {
   "cell_type": "code",
   "execution_count": 37,
   "id": "47d6882e-b985-49e5-9eba-7e2cd6a5b50c",
   "metadata": {},
   "outputs": [
    {
     "data": {
      "text/plain": [
       "['TC',\n",
       " 'CB',\n",
       " 'TC',\n",
       " 'CB',\n",
       " 'CA',\n",
       " 'TC',\n",
       " 'CA',\n",
       " 'AS',\n",
       " 'CA',\n",
       " 'TC',\n",
       " 'CA',\n",
       " 'TC',\n",
       " 'CA',\n",
       " 'AS',\n",
       " 'CA',\n",
       " 'TC',\n",
       " 'CA',\n",
       " 'AS',\n",
       " 'CA',\n",
       " 'TC',\n",
       " 'CA',\n",
       " 'TC',\n",
       " 'CA',\n",
       " 'AS',\n",
       " 'CA',\n",
       " 'TC',\n",
       " 'CA',\n",
       " 'TC',\n",
       " 'CA',\n",
       " 'AS',\n",
       " 'CA',\n",
       " 'TC',\n",
       " 'CA',\n",
       " 'AS',\n",
       " 'CA',\n",
       " 'TC',\n",
       " 'CA',\n",
       " 'TC',\n",
       " 'CA']"
      ]
     },
     "execution_count": 37,
     "metadata": {},
     "output_type": "execute_result"
    }
   ],
   "source": [
    "ps.history"
   ]
  },
  {
   "cell_type": "code",
   "execution_count": 38,
   "id": "9c728718-7c61-433b-8718-70f7eef0751f",
   "metadata": {},
   "outputs": [
    {
     "data": {
      "text/plain": [
       "39"
      ]
     },
     "execution_count": 38,
     "metadata": {},
     "output_type": "execute_result"
    }
   ],
   "source": [
    "len(ps.history)"
   ]
  },
  {
   "cell_type": "code",
   "execution_count": 39,
   "id": "c88dc24d-1594-4ad4-af8e-0e4dacca3b62",
   "metadata": {},
   "outputs": [
    {
     "data": {
      "text/plain": [
       "(13, 6)"
      ]
     },
     "execution_count": 39,
     "metadata": {},
     "output_type": "execute_result"
    }
   ],
   "source": [
    "len([c for c in ps.history if c[0] == 'T']), len([c for c in ps.history if c[1] == 'S'])"
   ]
  },
  {
   "cell_type": "code",
   "execution_count": 40,
   "id": "04ebe245-4447-4d72-a0b6-ee515e086437",
   "metadata": {},
   "outputs": [
    {
     "data": {
      "text/plain": [
       "20"
      ]
     },
     "execution_count": 40,
     "metadata": {},
     "output_type": "execute_result"
    }
   ],
   "source": [
    "39-13-6"
   ]
  },
  {
   "cell_type": "code",
   "execution_count": 41,
   "id": "c0af65aa-5fd8-40d8-bb02-7b8ce38dbae5",
   "metadata": {},
   "outputs": [
    {
     "name": "stdout",
     "output_type": "stream",
     "text": [
      "Found one : $(-7, -1, 13)\n"
     ]
    }
   ],
   "source": [
    "even_more_valids = []\n",
    "range_bound = 40\n",
    "\n",
    "for n_a in range(-range_bound, range_bound+1):\n",
    "    remaining = range_bound - abs(n_a)\n",
    "    for n_b in range(-remaining, remaining+1):\n",
    "        still_left = range_bound - abs(n_a) - abs(n_b)\n",
    "        for n_c in range(-still_left, still_left+1):\n",
    "            if is_valid(n_a, n_b, n_c):\n",
    "                even_more_valids.append((n_a, n_b, n_c))\n",
    "                print(f\"Found one : ${(n_a, n_b, n_c)}\")"
   ]
  },
  {
   "cell_type": "code",
   "execution_count": 42,
   "id": "ec397885-69bf-4e80-8183-76acd41bfeeb",
   "metadata": {},
   "outputs": [
    {
     "data": {
      "text/plain": [
       "np.float64(1.0002496607828313)"
      ]
     },
     "execution_count": 42,
     "metadata": {},
     "output_type": "execute_result"
    }
   ],
   "source": [
    "volume_of(ps.state[2,:])"
   ]
  },
  {
   "cell_type": "code",
   "execution_count": 43,
   "id": "c299bfc2-cc36-4fdd-9688-74bd287bd53b",
   "metadata": {},
   "outputs": [
    {
     "data": {
      "text/plain": [
       "array([[0, 0, 0],\n",
       "       [0, 0, 0],\n",
       "       [0, 0, 0]])"
      ]
     },
     "execution_count": 43,
     "metadata": {},
     "output_type": "execute_result"
    }
   ],
   "source": [
    "ps2 = PourState()\n",
    "ps2.state"
   ]
  },
  {
   "cell_type": "code",
   "execution_count": 44,
   "id": "f7281e7f-e84a-4d62-8abb-fdb03ea13bdc",
   "metadata": {},
   "outputs": [
    {
     "data": {
      "text/plain": [
       "array([[0, 0, 1],\n",
       "       [0, 0, 0],\n",
       "       [0, 0, 0]])"
      ]
     },
     "execution_count": 44,
     "metadata": {},
     "output_type": "execute_result"
    }
   ],
   "source": [
    "ps2.do_fill(2)\n",
    "ps2.do_pour(2,0)\n",
    "ps2.state"
   ]
  },
  {
   "cell_type": "code",
   "execution_count": 45,
   "id": "dbdb1349-e66f-4b09-95bf-8208e9f6e5fe",
   "metadata": {},
   "outputs": [
    {
     "data": {
      "text/plain": [
       "array([[ 1,  0,  0],\n",
       "       [ 0,  0,  0],\n",
       "       [-1,  0,  2]])"
      ]
     },
     "execution_count": 45,
     "metadata": {},
     "output_type": "execute_result"
    }
   ],
   "source": [
    "ps2.do_fill(2)\n",
    "ps2.do_pour(2,0)\n",
    "ps2.state"
   ]
  },
  {
   "cell_type": "code",
   "execution_count": 46,
   "id": "9fd8353a-52dc-4c09-b565-22a181c402be",
   "metadata": {},
   "outputs": [
    {
     "data": {
      "text/plain": [
       "array([[-1,  0,  2],\n",
       "       [ 0,  0,  0],\n",
       "       [ 0,  0,  0]])"
      ]
     },
     "execution_count": 46,
     "metadata": {},
     "output_type": "execute_result"
    }
   ],
   "source": [
    "ps2.do_dump(0)\n",
    "ps2.do_pour(2,0)\n",
    "ps2.state"
   ]
  },
  {
   "cell_type": "code",
   "execution_count": 47,
   "id": "7ab33b30-ff8f-4deb-9378-8631b310fd75",
   "metadata": {},
   "outputs": [
    {
     "data": {
      "text/plain": [
       "array([[-1,  0,  3],\n",
       "       [ 0,  0,  0],\n",
       "       [ 0,  0,  0]])"
      ]
     },
     "execution_count": 47,
     "metadata": {},
     "output_type": "execute_result"
    }
   ],
   "source": [
    "ps2.do_fill(2)\n",
    "ps2.do_pour(2,0)\n",
    "ps2.state"
   ]
  },
  {
   "cell_type": "code",
   "execution_count": 48,
   "id": "ef097401-14b0-4e5b-a3f0-29f913a7303d",
   "metadata": {},
   "outputs": [
    {
     "data": {
      "text/plain": [
       "array([[ 1,  0,  0],\n",
       "       [ 0,  0,  0],\n",
       "       [-2,  0,  4]])"
      ]
     },
     "execution_count": 48,
     "metadata": {},
     "output_type": "execute_result"
    }
   ],
   "source": [
    "ps2.do_fill(2)\n",
    "ps2.do_pour(2,0)\n",
    "ps2.state"
   ]
  },
  {
   "cell_type": "code",
   "execution_count": 49,
   "id": "58fe34b7-45eb-4605-994a-3788b4c4d21e",
   "metadata": {},
   "outputs": [
    {
     "data": {
      "text/plain": [
       "array([[-2,  0,  4],\n",
       "       [ 0,  0,  0],\n",
       "       [ 0,  0,  0]])"
      ]
     },
     "execution_count": 49,
     "metadata": {},
     "output_type": "execute_result"
    }
   ],
   "source": [
    "ps2.do_dump(0)\n",
    "ps2.do_pour(2,0)\n",
    "ps2.state"
   ]
  },
  {
   "cell_type": "code",
   "execution_count": 50,
   "id": "e00afd92-9724-4be2-b0d8-0bd6b74510aa",
   "metadata": {},
   "outputs": [
    {
     "data": {
      "text/plain": [
       "array([[ 1,  0,  0],\n",
       "       [ 0,  0,  0],\n",
       "       [-3,  0,  5]])"
      ]
     },
     "execution_count": 50,
     "metadata": {},
     "output_type": "execute_result"
    }
   ],
   "source": [
    "ps2.do_fill(2)\n",
    "ps2.do_pour(2,0)\n",
    "ps2.state"
   ]
  },
  {
   "cell_type": "code",
   "execution_count": 51,
   "id": "3253af2b-7c8c-4954-9e57-5bf62dad74e8",
   "metadata": {},
   "outputs": [
    {
     "data": {
      "text/plain": [
       "array([[-3,  0,  5],\n",
       "       [ 0,  0,  0],\n",
       "       [ 0,  0,  0]])"
      ]
     },
     "execution_count": 51,
     "metadata": {},
     "output_type": "execute_result"
    }
   ],
   "source": [
    "ps2.do_dump(0)\n",
    "ps2.do_pour(2,0)\n",
    "ps2.state"
   ]
  },
  {
   "cell_type": "code",
   "execution_count": 52,
   "id": "d4973193-bd52-410e-9ac1-1a8a9713fd18",
   "metadata": {},
   "outputs": [
    {
     "data": {
      "text/plain": [
       "array([[-3,  0,  6],\n",
       "       [ 0,  0,  0],\n",
       "       [ 0,  0,  0]])"
      ]
     },
     "execution_count": 52,
     "metadata": {},
     "output_type": "execute_result"
    }
   ],
   "source": [
    "ps2.do_fill(2)\n",
    "ps2.do_pour(2,0)\n",
    "ps2.state"
   ]
  },
  {
   "cell_type": "code",
   "execution_count": 53,
   "id": "6970f213-2cdb-499d-a077-1fbd185c25df",
   "metadata": {},
   "outputs": [
    {
     "data": {
      "text/plain": [
       "array([[ 1,  0,  0],\n",
       "       [ 0,  0,  0],\n",
       "       [-4,  0,  7]])"
      ]
     },
     "execution_count": 53,
     "metadata": {},
     "output_type": "execute_result"
    }
   ],
   "source": [
    "ps2.do_fill(2)\n",
    "ps2.do_pour(2,0)\n",
    "ps2.state"
   ]
  },
  {
   "cell_type": "code",
   "execution_count": 54,
   "id": "68aa854f-77ad-46ba-835a-1a68506174fd",
   "metadata": {},
   "outputs": [
    {
     "data": {
      "text/plain": [
       "array([[-4,  0,  7],\n",
       "       [ 0,  0,  0],\n",
       "       [ 0,  0,  0]])"
      ]
     },
     "execution_count": 54,
     "metadata": {},
     "output_type": "execute_result"
    }
   ],
   "source": [
    "ps2.do_dump(0)\n",
    "ps2.do_pour(2,0)\n",
    "ps2.state"
   ]
  },
  {
   "cell_type": "code",
   "execution_count": 55,
   "id": "001506bd-d01e-4f03-8acb-b7800c543efb",
   "metadata": {},
   "outputs": [
    {
     "data": {
      "text/plain": [
       "array([[ 1,  0,  0],\n",
       "       [ 0,  0,  0],\n",
       "       [-5,  0,  8]])"
      ]
     },
     "execution_count": 55,
     "metadata": {},
     "output_type": "execute_result"
    }
   ],
   "source": [
    "ps2.do_fill(2)\n",
    "ps2.do_pour(2,0)\n",
    "ps2.state"
   ]
  },
  {
   "cell_type": "code",
   "execution_count": 56,
   "id": "176e020c-2225-4ba2-b7da-aa8a2f48804f",
   "metadata": {},
   "outputs": [
    {
     "data": {
      "text/plain": [
       "array([[-5,  0,  8],\n",
       "       [ 0,  0,  0],\n",
       "       [ 0,  0,  0]])"
      ]
     },
     "execution_count": 56,
     "metadata": {},
     "output_type": "execute_result"
    }
   ],
   "source": [
    "ps2.do_dump(0)\n",
    "ps2.do_pour(2,0)\n",
    "ps2.state"
   ]
  },
  {
   "cell_type": "code",
   "execution_count": 57,
   "id": "4a21e9c8-a886-4070-9870-7195f62f4f48",
   "metadata": {},
   "outputs": [
    {
     "data": {
      "text/plain": [
       "array([[-5,  0,  9],\n",
       "       [ 0,  0,  0],\n",
       "       [ 0,  0,  0]])"
      ]
     },
     "execution_count": 57,
     "metadata": {},
     "output_type": "execute_result"
    }
   ],
   "source": [
    "ps2.do_fill(2)\n",
    "ps2.do_pour(2,0)\n",
    "ps2.state"
   ]
  },
  {
   "cell_type": "code",
   "execution_count": 58,
   "id": "dda224b6-1cc0-4d9b-b0c0-6586b1549ee8",
   "metadata": {},
   "outputs": [
    {
     "data": {
      "text/plain": [
       "array([[ 1,  0,  0],\n",
       "       [ 0,  0,  0],\n",
       "       [-6,  0, 10]])"
      ]
     },
     "execution_count": 58,
     "metadata": {},
     "output_type": "execute_result"
    }
   ],
   "source": [
    "ps2.do_fill(2)\n",
    "ps2.do_pour(2,0)\n",
    "ps2.state"
   ]
  },
  {
   "cell_type": "code",
   "execution_count": 59,
   "id": "58b626d2-e47b-4466-a27b-124b3e4bb798",
   "metadata": {},
   "outputs": [
    {
     "data": {
      "text/plain": [
       "array([[-6,  0, 10],\n",
       "       [ 0,  0,  0],\n",
       "       [ 0,  0,  0]])"
      ]
     },
     "execution_count": 59,
     "metadata": {},
     "output_type": "execute_result"
    }
   ],
   "source": [
    "ps2.do_dump(0)\n",
    "ps2.do_pour(2,0)\n",
    "ps2.state"
   ]
  },
  {
   "cell_type": "code",
   "execution_count": 60,
   "id": "15060b3f-1608-4521-b5e0-198cfe73965f",
   "metadata": {},
   "outputs": [
    {
     "data": {
      "text/plain": [
       "array([[-6,  0, 11],\n",
       "       [ 0,  0,  0],\n",
       "       [ 0,  0,  0]])"
      ]
     },
     "execution_count": 60,
     "metadata": {},
     "output_type": "execute_result"
    }
   ],
   "source": [
    "ps2.do_fill(2)\n",
    "ps2.do_pour(2,0)\n",
    "ps2.state"
   ]
  },
  {
   "cell_type": "code",
   "execution_count": 61,
   "id": "f2aca124-9850-4bec-be96-12c4b57bbbdd",
   "metadata": {},
   "outputs": [
    {
     "data": {
      "text/plain": [
       "array([[ 1,  0,  0],\n",
       "       [ 0,  0,  0],\n",
       "       [-7,  0, 12]])"
      ]
     },
     "execution_count": 61,
     "metadata": {},
     "output_type": "execute_result"
    }
   ],
   "source": [
    "ps2.do_fill(2)\n",
    "ps2.do_pour(2,0)\n",
    "ps2.state"
   ]
  },
  {
   "cell_type": "code",
   "execution_count": 62,
   "id": "32284e91-2f98-4d02-b1ac-f72614412c9e",
   "metadata": {},
   "outputs": [
    {
     "name": "stdout",
     "output_type": "stream",
     "text": [
      "[[ 1  0  0]\n",
      " [ 0  0  0]\n",
      " [-7  0 12]]\n"
     ]
    },
    {
     "data": {
      "text/plain": [
       "array([[ 1,  0,  0],\n",
       "       [-7,  0, 12],\n",
       "       [ 0,  0,  0]])"
      ]
     },
     "execution_count": 62,
     "metadata": {},
     "output_type": "execute_result"
    }
   ],
   "source": [
    "print(ps2.state)\n",
    "ps2.do_pour(2,1)\n",
    "ps2.state"
   ]
  },
  {
   "cell_type": "code",
   "execution_count": 63,
   "id": "5e77072d-5230-44ac-93b0-b03ee13e27fa",
   "metadata": {},
   "outputs": [
    {
     "data": {
      "text/plain": [
       "37"
      ]
     },
     "execution_count": 63,
     "metadata": {},
     "output_type": "execute_result"
    }
   ],
   "source": [
    "len(ps2.history)"
   ]
  },
  {
   "cell_type": "code",
   "execution_count": 64,
   "id": "c0a4da80-4a29-4ffa-96b5-a2eae0e8b818",
   "metadata": {},
   "outputs": [
    {
     "data": {
      "text/plain": [
       "array([[ 1,  0,  0],\n",
       "       [-7,  0, 12],\n",
       "       [ 0,  0,  1]])"
      ]
     },
     "execution_count": 64,
     "metadata": {},
     "output_type": "execute_result"
    }
   ],
   "source": [
    "ps2.do_fill(2)\n",
    "ps2.state"
   ]
  },
  {
   "cell_type": "code",
   "execution_count": 65,
   "id": "d150b40c-6540-4c85-915c-e71c4f240f50",
   "metadata": {},
   "outputs": [
    {
     "data": {
      "text/plain": [
       "array([[ 1,  0,  0],\n",
       "       [ 0,  1,  0],\n",
       "       [-7, -1, 13]])"
      ]
     },
     "execution_count": 65,
     "metadata": {},
     "output_type": "execute_result"
    }
   ],
   "source": [
    "ps2.do_pour(2,1)\n",
    "ps2.state"
   ]
  },
  {
   "cell_type": "code",
   "execution_count": 66,
   "id": "53945591-d0c9-48dd-b06e-6b40d83c2871",
   "metadata": {},
   "outputs": [
    {
     "data": {
      "text/plain": [
       "39"
      ]
     },
     "execution_count": 66,
     "metadata": {},
     "output_type": "execute_result"
    }
   ],
   "source": [
    "len(ps2.history)"
   ]
  },
  {
   "cell_type": "code",
   "execution_count": 67,
   "id": "a86d1327-5796-407f-a884-f9bf9a1a32cf",
   "metadata": {},
   "outputs": [
    {
     "data": {
      "text/plain": [
       "39"
      ]
     },
     "execution_count": 67,
     "metadata": {},
     "output_type": "execute_result"
    }
   ],
   "source": [
    "len(ps.history)"
   ]
  },
  {
   "cell_type": "code",
   "execution_count": 68,
   "id": "52b12000-90da-474d-888d-be11216ae0d9",
   "metadata": {},
   "outputs": [
    {
     "data": {
      "text/plain": [
       "array([[ 1,  0,  0],\n",
       "       [ 0,  1,  0],\n",
       "       [-7, -1, 13]])"
      ]
     },
     "execution_count": 68,
     "metadata": {},
     "output_type": "execute_result"
    }
   ],
   "source": [
    "ps.state"
   ]
  },
  {
   "cell_type": "code",
   "execution_count": 69,
   "id": "ddc70ab7-d878-4b09-b495-5aebc5c70602",
   "metadata": {},
   "outputs": [
    {
     "data": {
      "text/plain": [
       "'39 TC CB TC CB CA TC CA AS CA TC CA TC CA AS CA TC CA AS CA TC CA TC CA AS CA TC CA TC CA AS CA TC CA AS CA TC CA TC CA'"
      ]
     },
     "execution_count": 69,
     "metadata": {},
     "output_type": "execute_result"
    }
   ],
   "source": [
    "str(len(ps.history)) + \" \" + \" \".join(ps.history)"
   ]
  },
  {
   "cell_type": "code",
   "execution_count": 70,
   "id": "6fa23ed1-ad57-4896-acb5-07dc7f581353",
   "metadata": {},
   "outputs": [
    {
     "data": {
      "text/plain": [
       "'39 TC CA TC CA AS CA TC CA TC CA AS CA TC CA AS CA TC CA TC CA AS CA TC CA AS CA TC CA TC CA AS CA TC CA TC CA CB TC CB'"
      ]
     },
     "execution_count": 70,
     "metadata": {},
     "output_type": "execute_result"
    }
   ],
   "source": [
    "str(len(ps2.history)) + \" \" + \" \".join(ps2.history)"
   ]
  },
  {
   "cell_type": "code",
   "execution_count": 71,
   "id": "c2c9f356-d941-4667-ae85-43768a2ea284",
   "metadata": {},
   "outputs": [
    {
     "data": {
      "text/plain": [
       "13"
      ]
     },
     "execution_count": 71,
     "metadata": {},
     "output_type": "execute_result"
    }
   ],
   "source": [
    "len([x for x in ps.history if x == 'TC'])"
   ]
  },
  {
   "cell_type": "code",
   "execution_count": 72,
   "id": "cf35316d-8a89-4050-a9f4-f6371c3a28bd",
   "metadata": {},
   "outputs": [
    {
     "data": {
      "text/plain": [
       "[('CA', 18), ('CB', 2), ('TC', 13), ('AS', 6)]"
      ]
     },
     "execution_count": 72,
     "metadata": {},
     "output_type": "execute_result"
    }
   ],
   "source": [
    "[(x, len([c for c in ps.history if c == x])) for x in set(ps.history)]"
   ]
  },
  {
   "cell_type": "code",
   "execution_count": 73,
   "id": "57659d86-cb7f-494e-8639-d04595bf56e3",
   "metadata": {},
   "outputs": [
    {
     "data": {
      "text/plain": [
       "[('CA', 18), ('CB', 2), ('TC', 13), ('AS', 6)]"
      ]
     },
     "execution_count": 73,
     "metadata": {},
     "output_type": "execute_result"
    }
   ],
   "source": [
    "[(x, len([c for c in ps2.history if c == x])) for x in set(ps2.history)]"
   ]
  },
  {
   "cell_type": "markdown",
   "id": "221a6d4e-e43f-4065-aeac-ef17cc7a080f",
   "metadata": {},
   "source": [
    "Is our feasible solution optimal?\n",
    "------------------"
   ]
  },
  {
   "cell_type": "code",
   "execution_count": 74,
   "id": "5c79ca9d-6757-45ed-8585-f51da375bf0f",
   "metadata": {},
   "outputs": [],
   "source": [
    "import heapq\n",
    "\n",
    "def a_star(goal):\n",
    "    \"\"\"And here's the a-star search to find a minimal sequence of moves that gives us our target\"\"\"\n",
    "    initial = PourState()\n",
    "    queue = []\n",
    "    explored_count = 0\n",
    "    depths_seen = set()\n",
    "    def add_queue(s):\n",
    "        nonlocal explored_count\n",
    "        nonlocal depths_seen\n",
    "        hscore = s.search_heuristic(goal)\n",
    "        score = len(s.history) + hscore\n",
    "        heapq.heappush(queue, (score, explored_count, s))\n",
    "        if not len(s.history) in depths_seen:\n",
    "            print(f\"Adding an item with score {score}, heuristic score {hscore}, and depth {len(s.history)} : q size {len(queue)}\")\n",
    "            depths_seen.add(len(s.history))\n",
    "        explored_count += 1\n",
    "    add_queue(initial)\n",
    "    while len(queue) > 0:\n",
    "        explore_from = heapq.heappop(queue)[2]\n",
    "        if explore_from.search_heuristic(goal) == 0:\n",
    "            return explore_from.clone_self()\n",
    "        for bucket1 in range(3):\n",
    "            to_explore = explore_from.clone_self()\n",
    "            to_explore.do_fill(bucket1)\n",
    "            add_queue(to_explore)\n",
    "            to_explore = explore_from.clone_self()\n",
    "            to_explore.do_dump(bucket1)\n",
    "            add_queue(to_explore)\n",
    "            for bucket2 in range(3):\n",
    "                if bucket2 == bucket1:\n",
    "                    continue\n",
    "                to_explore = explore_from.clone_self()\n",
    "                to_explore.do_pour(bucket1, bucket2)\n",
    "    return None"
   ]
  },
  {
   "cell_type": "markdown",
   "id": "51b327ab-b869-4cf9-a1d9-324f357ae1fd",
   "metadata": {},
   "source": [
    "Is our feasible solution optimal?\n",
    "------\n",
    "\n",
    "Well, a-star search is *not* the right way to find out.  That just uses up all our ram and crashes python!"
   ]
  },
  {
   "cell_type": "code",
   "execution_count": null,
   "id": "bca8ac7f-6e79-41ed-9f1e-d7eda3bf1763",
   "metadata": {},
   "outputs": [],
   "source": []
  }
 ],
 "metadata": {
  "kernelspec": {
   "display_name": "Python 3 (ipykernel)",
   "language": "python",
   "name": "python3"
  },
  "language_info": {
   "codemirror_mode": {
    "name": "ipython",
    "version": 3
   },
   "file_extension": ".py",
   "mimetype": "text/x-python",
   "name": "python",
   "nbconvert_exporter": "python",
   "pygments_lexer": "ipython3",
   "version": "3.10.12"
  }
 },
 "nbformat": 4,
 "nbformat_minor": 5
}
